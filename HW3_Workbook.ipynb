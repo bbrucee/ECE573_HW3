{
 "cells": [
  {
   "cell_type": "markdown",
   "metadata": {},
   "source": [
    "1. Implement Shellsort which reverts to insertion sort. (Use the increment\n",
    "sequence 7, 3, 1). Create a table (or preferably, a plot) for the total\n",
    "number of comparisons made in the sorting the data for both cases (insertion\n",
    "sort phase and shell sort phase). Explain why Shellshort is more effective than\n",
    "Insertion sort in this case."
   ]
  },
  {
   "cell_type": "code",
   "execution_count": 29,
   "metadata": {},
   "outputs": [],
   "source": [
    "# https://www.geeksforgeeks.org/insertion-sort/\n",
    "# Input is any length array\n",
    "# After function call array is sorted\n",
    "# Returns number of comparisons\n",
    "def insertion_sort(input_array):\n",
    "    comparisons = 0\n",
    "    for i in range(1, len(input_array)):\n",
    "        key = input_array[i]\n",
    "        j = i-1\n",
    "        while j >= 0 and key < input_array[j]:\n",
    "            comparisons += 1\n",
    "            input_array[j+1] = input_array[j]\n",
    "            j -= 1\n",
    "        comparisons += 1\n",
    "        input_array[j+1] = key\n",
    "    return comparisons\n",
    "    \n",
    "\n",
    "# https://www.geeksforgeeks.org/python-program-for-shellsort/\n",
    "# Input is any length array\n",
    "# After function call array is 7-sorted\n",
    "# Returns number of comparisons\n",
    "def shell7(input_array):\n",
    "    comparisons = 0\n",
    "    for i in range(7, len(input_array)):\n",
    "        key = input_array[i]\n",
    "        j = i\n",
    "        while j >= 7 and input_array[j-7] > key:\n",
    "            comparisons += 1\n",
    "            input_array[j] = input_array[j-7]\n",
    "            j -= 7\n",
    "        comparisons += 1\n",
    "        input_array[j] = key \n",
    "    return comparisons\n",
    "\n",
    "# Input is any length array\n",
    "# After function call array is 3-sorted\n",
    "# Returns number of comparisons\n",
    "def shell3(input_array):\n",
    "    comparisons = 0\n",
    "    for i in range(3, len(input_array)):\n",
    "        key = input_array[i]\n",
    "        j = i\n",
    "        while j >= 3 and input_array[j-3] > key:\n",
    "            comparisons += 1\n",
    "            input_array[j] = input_array[j-3]\n",
    "            j -= 3\n",
    "        comparisons += 1\n",
    "        input_array[j] = key \n",
    "    return comparisons\n",
    "\n",
    "# Input is any length array\n",
    "# After function call array is sorted\n",
    "# Returns number of comparisons\n",
    "def shell_sort(input_array):\n",
    "    comparisons = 0\n",
    "    comparisons += shell7(input_array)\n",
    "    comparisons += shell3(input_array)\n",
    "    comparisons += insertion_sort(input_array)\n",
    "    return comparisons\n"
   ]
  },
  {
   "cell_type": "code",
   "execution_count": 30,
   "metadata": {},
   "outputs": [
    {
     "name": "stdout",
     "output_type": "stream",
     "text": [
      "[1, 2, 4, 5, 9, 32]\n"
     ]
    }
   ],
   "source": [
    "test = [9,32,2,4,1,5]\n",
    "insertion_sort(test)\n",
    "print(test)"
   ]
  },
  {
   "cell_type": "code",
   "execution_count": 31,
   "metadata": {},
   "outputs": [
    {
     "name": "stdout",
     "output_type": "stream",
     "text": [
      "[1, 1, 1, 1, 1, 1, 2, 2, 2, 2, 2, 2, 4, 4, 4, 4, 4, 4, 5, 5, 5, 5, 5, 5, 9, 9, 9, 9, 9, 9, 32, 32, 32, 32, 32, 32]\n",
      "320\n",
      "137\n",
      "[1, 1, 1, 1, 1, 1, 2, 2, 2, 2, 2, 2, 4, 4, 4, 4, 4, 4, 5, 5, 5, 5, 5, 5, 9, 9, 9, 9, 9, 9, 32, 32, 32, 32, 32, 32]\n"
     ]
    }
   ],
   "source": [
    "test = [9,32,2,4,1,5,9,32,2,4,1,5,9,32,2,4,1,5,9,32,2,4,1,5,9,32,2,4,1,5,9,32,2,4,1,5]\n",
    "print(sorted(test))\n",
    "print(insertion_sort(test[:]))\n",
    "print(shell_sort(test))\n",
    "print(test)"
   ]
  },
  {
   "cell_type": "markdown",
   "metadata": {},
   "source": [
    "4. Implement the two versions of MergeSort that we discussed in class. Create a\n",
    "table or a plot for the total number of comparisons to sort the data (using data\n",
    "set here) for both cases. Explain.\n"
   ]
  },
  {
   "cell_type": "code",
   "execution_count": 68,
   "metadata": {},
   "outputs": [],
   "source": [
    "# https://www.geeksforgeeks.org/merge-sort/\n",
    "def merge(input_array, left, middle, right):\n",
    "    N1 = middle - left + 1 \n",
    "    N2 =  right - middle \n",
    "    \n",
    "    left_sub = []\n",
    "    right_sub = []\n",
    "    for i in range(0, N1): \n",
    "        left_sub.append(input_array[left + i]) \n",
    "    for j in range(0, N2): \n",
    "        right_sub.append(input_array[middle + 1 + j])\n",
    "        \n",
    "    i = j = 0\n",
    "    k = left\n",
    "    \n",
    "    while i < N1 and j < N2:\n",
    "        if left_sub[i] <= right_sub[j]:\n",
    "            input_array[k] = left_sub[i]\n",
    "            i += 1\n",
    "        else:\n",
    "            input_array[k] = right_sub[j]\n",
    "            j += 1\n",
    "        k += 1\n",
    "    \n",
    "    while i < N1:\n",
    "        input_array[k] = left_sub[i]\n",
    "        i += 1\n",
    "        k += 1\n",
    "    \n",
    "    while j < N2:\n",
    "        input_array[k] = right_sub[j]\n",
    "        j += 1\n",
    "        k += 1\n",
    "    \n",
    "def recursive_mergesort(input_array, left, right):\n",
    "    if right > left:\n",
    "        mid_point = (left + right) // 2\n",
    "        recursive_mergesort(input_array, left, mid_point)\n",
    "        recursive_mergesort(input_array, mid_point+1, right)\n",
    "        merge(input_array, left, mid_point, right)\n",
    "        \n",
    "# https://www.geeksforgeeks.org/iterative-merge-sort/\n",
    "def iterative_mergesort(input_array):\n",
    "    sz = 1\n",
    "    \n",
    "    while sz < len(input_array)-1:\n",
    "        left = 0\n",
    "        while left < len(input_array)-1:\n",
    "            mid = left + sz - 1\n",
    "            \n",
    "            if 2*sz + left - 1 > len(input_array)-1:\n",
    "                right = len(input_array) - 1\n",
    "            else:\n",
    "                right = 2 * sz + left - 1\n",
    "                \n",
    "            merge(input_array, left, mid, right)\n",
    "            left = left + sz*2\n",
    "        sz = 2*sz\n",
    "\n",
    "def mergesort_insertion_cutoff(input_array, left, right, cutoff=7):\n",
    "    if right > left:\n",
    "        if right - left < cutoff:\n",
    "            insertion_sort(input_array)\n",
    "            return\n",
    "        mid_point = (left + right) // 2\n",
    "        mergesort_insertion_cutoff(input_array, left, mid_point)\n",
    "        mergesort_insertion_cutoff(input_array, mid_point+1, right)\n",
    "        merge(input_array, left, mid_point, right)"
   ]
  },
  {
   "cell_type": "code",
   "execution_count": 69,
   "metadata": {},
   "outputs": [
    {
     "name": "stdout",
     "output_type": "stream",
     "text": [
      "[1, 1, 1, 1, 1, 1, 1, 1, 1, 1, 1, 1, 1, 1, 1, 1, 1, 1, 1, 1, 1, 2, 2, 2, 2, 2, 2, 2, 2, 2, 2, 2, 2, 2, 2, 2, 2, 2, 2, 2, 2, 2, 2, 2, 2, 2, 2, 4, 4, 4, 4, 4, 4, 4, 4, 4, 4, 4, 4, 4, 4, 4, 4, 4, 4, 4, 4, 4, 5, 5, 5, 5, 5, 5, 5, 5, 5, 5, 5, 5, 5, 5, 5, 5, 5, 5, 5, 5, 5, 6, 6, 6, 6, 6, 6, 6, 6, 6, 6, 6, 6, 6, 7, 7, 7, 7, 7, 7, 7, 7, 8, 8, 8, 8, 8, 8, 8, 8, 8, 8, 8, 8, 8, 9, 9, 9, 9, 9, 9, 9, 9, 9, 9, 9, 9, 9, 9, 9, 9, 9, 9, 9, 9, 9, 9, 9, 9, 9, 9, 9, 9, 9, 9, 9, 9, 9, 9, 9, 9, 9, 9, 9, 32, 32, 32, 32, 32, 32, 32, 32, 32, 32, 32, 32, 32, 32, 32, 32, 32, 32, 32, 32, 32, 32, 32, 32, 32, 32]\n",
      "[1, 1, 1, 1, 1, 1, 1, 1, 1, 1, 1, 1, 1, 1, 1, 1, 1, 1, 1, 1, 1, 2, 2, 2, 2, 2, 2, 2, 2, 2, 2, 2, 2, 2, 2, 2, 2, 2, 2, 2, 2, 2, 2, 2, 2, 2, 2, 4, 4, 4, 4, 4, 4, 4, 4, 4, 4, 4, 4, 4, 4, 4, 4, 4, 4, 4, 4, 4, 5, 5, 5, 5, 5, 5, 5, 5, 5, 5, 5, 5, 5, 5, 5, 5, 5, 5, 5, 5, 5, 6, 6, 6, 6, 6, 6, 6, 6, 6, 6, 6, 6, 6, 7, 7, 7, 7, 7, 7, 7, 7, 8, 8, 8, 8, 8, 8, 8, 8, 8, 8, 8, 8, 8, 9, 9, 9, 9, 9, 9, 9, 9, 9, 9, 9, 9, 9, 9, 9, 9, 9, 9, 9, 9, 9, 9, 9, 9, 9, 9, 9, 9, 9, 9, 9, 9, 9, 9, 9, 9, 9, 9, 9, 32, 32, 32, 32, 32, 32, 32, 32, 32, 32, 32, 32, 32, 32, 32, 32, 32, 32, 32, 32, 32, 32, 32, 32, 32, 32]\n"
     ]
    }
   ],
   "source": [
    "test = [9,32,2,4,1,5,9,32,2,4,1,5,7,8,9,6,9,32,2,4,1,5,9,32,2,4,1,5,7,8,9,6,9,32,2,4,1,5,9,32,2,8,9,6,9,32,2,4,1,5,9,32,2,4,1,5,7,8,9,6,9,32,2,4,1,5,9,32,2,8,9,6,9,32,2,4,1,5,9,32,2,4,1,5,7,8,9,6,9,32,2,4,1,5,9,32,2,8,9,6,9,32,2,4,1,5,9,32,2,4,1,5,7,8,9,6,9,32,2,4,1,5,9,32,2,8,9,6,9,32,2,4,1,5,9,32,2,4,1,5,7,8,9,6,9,32,2,4,1,5,9,32,2,8,9,6,9,32,2,4,1,5,9,32,2,4,1,5,7,8,9,6,9,32,2,4,1,5,9,32,2,4,1,5,7,8,9,6]\n",
    "print(sorted(test))\n",
    "mergesort_insertion_cutoff(test, 0, len(test)-1)\n",
    "print(test)"
   ]
  },
  {
   "cell_type": "code",
   "execution_count": 62,
   "metadata": {},
   "outputs": [
    {
     "name": "stdout",
     "output_type": "stream",
     "text": [
      "[1, 1, 2, 2, 4, 4, 5, 5, 9, 9, 32, 32]\n",
      "[1, 1, 2, 2, 4, 4, 5, 5, 9, 9, 32, 32]\n"
     ]
    }
   ],
   "source": [
    "test = [9,32,2,4,1,5,9,32,2,4,1,5]\n",
    "print(sorted(test))\n",
    "recursive_mergesort(test, 0, len(test)-1)\n",
    "print(test)"
   ]
  },
  {
   "cell_type": "code",
   "execution_count": 64,
   "metadata": {},
   "outputs": [
    {
     "name": "stdout",
     "output_type": "stream",
     "text": [
      "[1, 1, 2, 2, 4, 4, 5, 5, 6, 7, 8, 9, 9, 9, 32, 32]\n",
      "[1, 1, 2, 2, 4, 4, 5, 5, 6, 7, 8, 9, 9, 9, 32, 32]\n"
     ]
    }
   ],
   "source": [
    "test = [9,32,2,4,1,5,9,32,2,4,1,5,7,8,9,6]\n",
    "print(sorted(test))\n",
    "iterative_mergesort(test)\n",
    "print(test)"
   ]
  },
  {
   "cell_type": "markdown",
   "metadata": {},
   "source": [
    "5. Implement Quicksort using median-of-three to determine the partition\n",
    "element. Compare the performance of Quicksort with the Mergesort implementation\n",
    "and dataset from Q4. Is there any noticeable difference when you use N=7 as the\n",
    "cut-off to insertion sort. Experiment if there is any value of \"cut-off to\n",
    "insertion\" at which the performance inverts."
   ]
  },
  {
   "cell_type": "code",
   "execution_count": 70,
   "metadata": {},
   "outputs": [],
   "source": [
    "# https://www.geeksforgeeks.org/quick-sort/\n",
    "# https://stackoverflow.com/questions/50912873/python-quicksort-with-median-of-three\n",
    "\n",
    "def median_of_three(input_array, left, right):\n",
    "    middle = (left + right - 1) // 2\n",
    "    a = input_array[left]\n",
    "    b = input_array[middle]\n",
    "    c = input_array[right-1]\n",
    "    if a <= b <= c:\n",
    "        return b, middle\n",
    "    if c <= b <= a:\n",
    "        return b, middle\n",
    "    if a <= c <= b:\n",
    "        return c, right-1\n",
    "    if b <= c <= a:\n",
    "        return c, right-1\n",
    "    return a, left\n",
    "\n",
    "def partition(input_array, left, right):\n",
    "    pivot, pivot_index = median_of_three(input_array, left, right) \n",
    "    input_array[left], input_array[pivot_index] = input_array[pivot_index], input_array[left]\n",
    "    i = left + 1\n",
    "    for j in range(left+1, right):\n",
    "        if input_array[j] < pivot:\n",
    "            input_array[i], input_array[j] = input_array[j], input_array[i]\n",
    "            i += 1\n",
    "    input_array[left], input_array[i-1] = input_array[i-1], input_array[left]\n",
    "    return i-1\n",
    "    \n",
    "def quicksort(input_array, left, right):\n",
    "    if left < right:\n",
    "        partition_index = partition(input_array, left, right)\n",
    "        quicksort(input_array, left, partition_index)\n",
    "        quicksort(input_array, partition_index+1, right)\n",
    "        \n",
    "\n",
    "def quicksort_insertion_cutoff(input_array, left, right, cutoff=7):\n",
    "    if left < right:\n",
    "        if right - left < cutoff:\n",
    "            insertion_sort(input_array)\n",
    "            return\n",
    "        partition_index = partition(input_array, left, right)\n",
    "        quicksort_insertion_cutoff(input_array, left, partition_index)\n",
    "        quicksort_insertion_cutoff(input_array, partition_index+1, right)"
   ]
  },
  {
   "cell_type": "code",
   "execution_count": 35,
   "metadata": {},
   "outputs": [
    {
     "name": "stdout",
     "output_type": "stream",
     "text": [
      "[1, 1, 2, 2, 4, 4, 5, 5, 6, 7, 8, 9, 9, 9, 32, 32]\n",
      "[1, 1, 2, 2, 4, 4, 5, 5, 6, 7, 8, 9, 9, 9, 32, 32]\n"
     ]
    }
   ],
   "source": [
    "test = [9,32,2,4,1,5,9,32,2,4,1,5,7,8,9,6]\n",
    "print(sorted(test))\n",
    "quicksort(test, 0, len(test))\n",
    "print(test)"
   ]
  },
  {
   "cell_type": "code",
   "execution_count": 71,
   "metadata": {},
   "outputs": [
    {
     "name": "stdout",
     "output_type": "stream",
     "text": [
      "[1, 1, 1, 1, 1, 1, 2, 2, 2, 2, 2, 2, 4, 4, 4, 4, 4, 4, 5, 5, 5, 5, 5, 5, 6, 6, 6, 7, 7, 7, 8, 8, 8, 9, 9, 9, 9, 9, 9, 9, 9, 9, 32, 32, 32, 32, 32, 32]\n",
      "[1, 1, 1, 1, 1, 1, 2, 2, 2, 2, 2, 2, 4, 4, 4, 4, 4, 4, 5, 5, 5, 5, 5, 5, 6, 6, 6, 7, 7, 7, 8, 8, 8, 9, 9, 9, 9, 9, 9, 9, 9, 9, 32, 32, 32, 32, 32, 32]\n"
     ]
    }
   ],
   "source": [
    "test = [9,32,2,4,1,5,9,32,2,4,1,5,7,8,9,6,9,32,2,4,1,5,9,32,2,4,1,5,7,8,9,6,9,32,2,4,1,5,9,32,2,4,1,5,7,8,9,6]\n",
    "print(sorted(test))\n",
    "quicksort_insertion_cutoff(test, 0, len(test))\n",
    "print(test)"
   ]
  },
  {
   "cell_type": "markdown",
   "metadata": {},
   "source": [
    "3. Create a data set of 8192 entries which has in the following order: 1024 repeats of 1, 2048 repeats of 11, 4096 repeats of 111 and 1024 repeats of 1111. Write a sort algorithm that you think will sort this set \"most\" effectively. Explain why you think so."
   ]
  },
  {
   "cell_type": "code",
   "execution_count": 16,
   "metadata": {},
   "outputs": [],
   "source": [
    "import csv\n",
    "\n",
    "dataset = 1024*[1] + 2048*[11] + 4096*[111] + 1024*[1111]\n",
    "# https://stackoverflow.com/questions/2084069/create-a-csv-file-with-values-from-a-python-list\n",
    "with open('Q3_dataset.csv', 'w') as myfile:\n",
    "    wr = csv.writer(myfile, quoting=csv.QUOTE_ALL)\n",
    "    wr.writerow(dataset)"
   ]
  },
  {
   "cell_type": "code",
   "execution_count": 11,
   "metadata": {},
   "outputs": [
    {
     "data": {
      "text/plain": [
       "0"
      ]
     },
     "execution_count": 11,
     "metadata": {},
     "output_type": "execute_result"
    }
   ],
   "source": [
    "# Dataset is already sorted so we can use a modified bubble sort to exit after a single pass through\n",
    "# The idea here is that bubble sort is completed when it makes a pass with no swaps\n",
    "# https://www.quora.com/What-is-modified-bubble-sorting\n",
    "def bubblesort(input_array):\n",
    "    total_swaps = 0\n",
    "    for i in range(len(input_array)):\n",
    "        swaps = 0\n",
    "        for j in range(len(input_array)-i-1):\n",
    "            if input_array[j] > input_array[j+1]:\n",
    "                temp = input_array[j]\n",
    "                input_array[j] = input_array[j+1]\n",
    "                input_array[j+1] = temp\n",
    "                swaps = swaps + 1\n",
    "                total_swaps = total_swaps + 1\n",
    "        if swaps == 0:\n",
    "            break\n",
    "    return total_swaps\n",
    "\n",
    "bubblesort(dataset)"
   ]
  },
  {
   "cell_type": "markdown",
   "metadata": {},
   "source": [
    "2. The Kendall Tau distance is a variant of the \"number of inversions\" we\n",
    "discussed in class. It is defined as the number of pairs that are in different\n",
    "order in two permutations. Write an efficient program that computes the Kendall\n",
    "Tau distance in less than quadratic time on average. Plot your results and\n",
    "discuss. Use the dataset provided here. Note: data0.* for convenience is an\n",
    "ordered set of numbers (in powers of two). data1.* are shuffled data sets of\n",
    "sizes (as given by \"*\")."
   ]
  },
  {
   "cell_type": "code",
   "execution_count": 12,
   "metadata": {},
   "outputs": [],
   "source": [
    "def kd_merge(input_array, left, middle, right):\n",
    "    swaps = 0\n",
    "    \n",
    "    N1 = middle - left + 1 \n",
    "    N2 = right - middle \n",
    "    \n",
    "    left_sub = []\n",
    "    right_sub = []\n",
    "    for i in range(0, N1): \n",
    "        left_sub.append(input_array[left + i]) \n",
    "    for j in range(0, N2): \n",
    "        right_sub.append(input_array[middle + 1 + j])\n",
    "        \n",
    "    i = j = 0\n",
    "    k = left\n",
    "    \n",
    "    while i < N1 and j < N2:\n",
    "        if left_sub[i] <= right_sub[j]:\n",
    "            input_array[k] = left_sub[i]\n",
    "            i += 1\n",
    "        else:\n",
    "            input_array[k] = right_sub[j]\n",
    "            swaps = swaps + middle - (left + i) + 1\n",
    "            j += 1\n",
    "        k += 1\n",
    "    \n",
    "    while i < N1:\n",
    "        input_array[k] = left_sub[i]\n",
    "        i += 1\n",
    "        k += 1\n",
    "    \n",
    "    while j < N2:\n",
    "        input_array[k] = right_sub[j]\n",
    "        j += 1\n",
    "        k += 1\n",
    "    \n",
    "    return swaps\n",
    "    \n",
    "def kd_mergesort(input_array, left, right):\n",
    "    swaps = 0\n",
    "    if right > left:\n",
    "        mid_point = (left + right) // 2\n",
    "        swaps = swaps + kd_mergesort(input_array, left, mid_point)\n",
    "        swaps = swaps + kd_mergesort(input_array, mid_point+1, right)\n",
    "        swaps = swaps + kd_merge(input_array, left, mid_point, right)\n",
    "    return swaps\n",
    "\n",
    "def kendalltau(input_array):\n",
    "    temp_array = input_array[:]\n",
    "    return kd_mergesort(temp_array, 0, len(temp_array)-1)"
   ]
  },
  {
   "cell_type": "code",
   "execution_count": 13,
   "metadata": {},
   "outputs": [
    {
     "name": "stdout",
     "output_type": "stream",
     "text": [
      "105\n",
      "105\n"
     ]
    }
   ],
   "source": [
    "test = [9,32,2,4,1,5,9,32,2,4,1,5,7,8,9,6,1,2,1,2]\n",
    "\n",
    "print(kendalltau(test))\n",
    "print(bubblesort(test))"
   ]
  },
  {
   "cell_type": "code",
   "execution_count": 28,
   "metadata": {},
   "outputs": [],
   "source": [
    "import csv\n",
    "import random\n",
    "\n",
    "for power in range(3, 21):\n",
    "    length = 2**power\n",
    "    dataset = [random.randint(0,1000) for i in range(length)]\n",
    "    with open('{}_unordered_rand_int.csv'.format(length), 'w') as myfile:\n",
    "        wr = csv.writer(myfile, quoting=csv.QUOTE_ALL)\n",
    "        wr.writerow(dataset)"
   ]
  },
  {
   "cell_type": "code",
   "execution_count": null,
   "metadata": {},
   "outputs": [],
   "source": []
  },
  {
   "cell_type": "code",
   "execution_count": null,
   "metadata": {},
   "outputs": [],
   "source": []
  }
 ],
 "metadata": {
  "kernelspec": {
   "display_name": "Python 3",
   "language": "python",
   "name": "python3"
  },
  "language_info": {
   "codemirror_mode": {
    "name": "ipython",
    "version": 3
   },
   "file_extension": ".py",
   "mimetype": "text/x-python",
   "name": "python",
   "nbconvert_exporter": "python",
   "pygments_lexer": "ipython3",
   "version": "3.5.6"
  }
 },
 "nbformat": 4,
 "nbformat_minor": 2
}
